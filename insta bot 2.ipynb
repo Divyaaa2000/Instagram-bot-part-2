{
 "cells": [
  {
   "cell_type": "code",
   "execution_count": 1,
   "id": "c7ba0a2f",
   "metadata": {},
   "outputs": [],
   "source": [
    "from selenium import webdriver\n",
    "from selenium.webdriver.support import expected_conditions as EC\n",
    "from selenium.webdriver.support.ui import WebDriverWait\n",
    "from selenium.webdriver.common.by import By\n",
    "from selenium.common.exceptions import TimeoutException\n",
    "from bs4 import BeautifulSoup\n",
    "from collections import OrderedDict \n",
    "import time\n",
    "from datetime import datetime, timedelta\n",
    "\n",
    "\n",
    "import numpy as np\n",
    "import matplotlib.pyplot as plt\n",
    "%matplotlib inline"
   ]
  },
  {
   "cell_type": "code",
   "execution_count": 2,
   "id": "5599d45c",
   "metadata": {},
   "outputs": [
    {
     "name": "stderr",
     "output_type": "stream",
     "text": [
      "<ipython-input-2-83f597078576>:1: DeprecationWarning: executable_path has been deprecated, please pass in a Service object\n",
      "  driver=webdriver.Chrome(executable_path=\"C:\\python37\\chromedriver.exe\")\n"
     ]
    }
   ],
   "source": [
    "driver=webdriver.Chrome(executable_path=\"C:\\python37\\chromedriver.exe\")\n",
    "driver.maximize_window()"
   ]
  },
  {
   "cell_type": "code",
   "execution_count": 3,
   "id": "88e38d6e",
   "metadata": {},
   "outputs": [],
   "source": [
    "driver.get('https://www.instagram.com/')"
   ]
  },
  {
   "cell_type": "code",
   "execution_count": 129,
   "id": "cd525342",
   "metadata": {},
   "outputs": [],
   "source": [
    "username=\"SAMPLE_USERNAME\"\n",
    "password=\"SAMPLE_PASSWORD\""
   ]
  },
  {
   "cell_type": "code",
   "execution_count": 5,
   "id": "ef705875",
   "metadata": {},
   "outputs": [],
   "source": [
    "wait=WebDriverWait(driver,10)"
   ]
  },
  {
   "cell_type": "code",
   "execution_count": 6,
   "id": "335222ab",
   "metadata": {},
   "outputs": [],
   "source": [
    "#log in\n",
    "def LogIn(username,password):\n",
    "    #enter username and password\n",
    "    user_name=driver.find_element('name','username')\n",
    "    user_name.send_keys(username)\n",
    "    pass_word=driver.find_element('name','password')\n",
    "    pass_word.send_keys(password)\n",
    "    #locate login button\n",
    "    button=wait.until(EC.presence_of_element_located((By.XPATH,'//*[@id=\"loginForm\"]/div[1]/div[3]/button/div')))\n",
    "    button.submit()\n",
    "    #save your login info not now\n",
    "    pop = wait.until(EC.presence_of_element_located((By.XPATH,'//*[@id=\"react-root\"]/section/main/div/div/div/div/button')))\n",
    "    pop.click()\n",
    "    "
   ]
  },
  {
   "cell_type": "code",
   "execution_count": 7,
   "id": "765ffa42",
   "metadata": {},
   "outputs": [],
   "source": [
    "LogIn(username,password)"
   ]
  },
  {
   "cell_type": "markdown",
   "id": "9de3dceb",
   "metadata": {},
   "source": [
    "### Problem 1 : Analyse the habits of bloggers\n",
    "\n",
    "Now your friend has followed a lot of different food bloggers, he needs to analyse the habits of these bloggers.\n",
    "\n",
    "1.From the list of instagram handles you obtained when you searched ‘food’ in previous project. Open the first 10 handles and find the top 5 which have the highest number of followers\n",
    "\n",
    "2.Now Find the number of posts these handles have done in the previous 3 days.\n",
    "\n",
    "3.Depict this information using a suitable graph.\n",
    "\n",
    "### 1.From the list of instagram handles you obtained when you searched ‘food’ in previous project. Open the first 10 handles and find the top 5 which have the highest number of followers"
   ]
  },
  {
   "cell_type": "code",
   "execution_count": 8,
   "id": "8bbb9669",
   "metadata": {},
   "outputs": [],
   "source": [
    "handels_list=['dilsefoodie','delhifoodguide','foodzee','foodie_incarnate','delhifoodwalks',\n",
    "              'yourfoodlab','food_lunatic','thegreatindianfoodie','nagpurfoodgram','satshyaa']"
   ]
  },
  {
   "cell_type": "code",
   "execution_count": 9,
   "id": "f6b594af",
   "metadata": {},
   "outputs": [],
   "source": [
    "def search_profile(s):\n",
    "    driver.find_element('xpath','//input[@Placeholder=\"Search\"]').send_keys(s)\n",
    "    time.sleep(2)\n",
    "    open_prof=WebDriverWait(driver,10).until(EC.presence_of_element_located((By.XPATH,'//div[@class=\"_aa61\"]//a')))\n",
    "    open_prof.click()\n",
    "    time.sleep(2)"
   ]
  },
  {
   "cell_type": "code",
   "execution_count": 10,
   "id": "59c67247",
   "metadata": {},
   "outputs": [],
   "source": [
    "def top_5_handels(lst):\n",
    "    dict={}\n",
    "    for i in lst:\n",
    "        search_profile(i)\n",
    "        time.sleep(2)\n",
    "        #locate followers \n",
    "        followers=WebDriverWait(driver,10).until(EC.presence_of_all_elements_located((By.CLASS_NAME,'_ac2a')))[1]\n",
    "        dict[i]=int(followers.get_attribute('title').replace(',',''))\n",
    "        time.sleep(2)\n",
    "        driver.refresh()\n",
    "        time.sleep(10)\n",
    "    count=0\n",
    "    res=OrderedDict()\n",
    "    for i in sorted(dict,key=dict.get,reverse=True):\n",
    "        res[i]=dict[i]\n",
    "        count+=1\n",
    "        if count>=5:\n",
    "            break\n",
    "    return res"
   ]
  },
  {
   "cell_type": "code",
   "execution_count": 11,
   "id": "718d9b94",
   "metadata": {},
   "outputs": [
    {
     "data": {
      "text/plain": [
       "OrderedDict([('yourfoodlab', 2008012),\n",
       "             ('foodie_incarnate', 1374043),\n",
       "             ('foodzee', 1301019),\n",
       "             ('dilsefoodie', 1026254),\n",
       "             ('thegreatindianfoodie', 363796)])"
      ]
     },
     "execution_count": 11,
     "metadata": {},
     "output_type": "execute_result"
    }
   ],
   "source": [
    "top_handels=top_5_handels(handels_list)\n",
    "top_handels"
   ]
  },
  {
   "cell_type": "code",
   "execution_count": 12,
   "id": "001cf7c2",
   "metadata": {},
   "outputs": [
    {
     "name": "stdout",
     "output_type": "stream",
     "text": [
      "yourfoodlab -> 2008012\n",
      "foodie_incarnate -> 1374043\n",
      "foodzee -> 1301019\n",
      "dilsefoodie -> 1026254\n",
      "thegreatindianfoodie -> 363796\n"
     ]
    }
   ],
   "source": [
    "for key,value in top_handels.items():\n",
    "    print(key,'->',value)"
   ]
  },
  {
   "cell_type": "markdown",
   "id": "e955b3dd",
   "metadata": {},
   "source": [
    "### 2.Now Find the number of posts these handles have done in the previous 3 days."
   ]
  },
  {
   "cell_type": "code",
   "execution_count": 13,
   "id": "03d6210e",
   "metadata": {},
   "outputs": [],
   "source": [
    "def count_of_post(day):\n",
    "    try:\n",
    "        post=wait.until(EC.presence_of_element_located((By.CLASS_NAME,'_aagw')))\n",
    "        post.click()\n",
    "        count=0\n",
    "        \n",
    "        while True:\n",
    "            #getting date of post\n",
    "            temp=wait.until(EC.presence_of_element_located((By.CLASS_NAME,'_aaqe')))\n",
    "            #getting date in string format\n",
    "            date_string=temp.get_attribute('datetime')\n",
    "            #converting into date format\n",
    "            date=datetime.strptime(date_string[0:19],\"%Y-%m-%dT%H:%M:%S\")\n",
    "            #taking diffrence between todays date and posted date\n",
    "            if (datetime.now()-date).days>day:\n",
    "                break\n",
    "            else:\n",
    "                count+=1\n",
    "            #locating next button\n",
    "            next_but=WebDriverWait(driver,10).until(EC.presence_of_element_located((By.XPATH,'//button[@class=\"_abl-\"]//*[@aria-label=\"Next\"]')))\n",
    "            next_but.click()\n",
    "        #closing the post\n",
    "        exit=WebDriverWait(driver,10).until(EC.presence_of_element_located((By.XPATH,'//div[@class=\"o9tjht9c jar9mtx6 mbzxb4f5 njoytozt\"]/div')))\n",
    "        exit.click()\n",
    "        return count\n",
    "    except TimeoutException :\n",
    "        print (\"Something went wrong! Try Again\")"
   ]
  },
  {
   "cell_type": "code",
   "execution_count": 14,
   "id": "7d7fadc8",
   "metadata": {},
   "outputs": [],
   "source": [
    "total_post_count={}\n",
    "for i in top_handels:\n",
    "    search_profile(i)\n",
    "    time.sleep(2)\n",
    "    count=count_of_post(3)\n",
    "    total_post_count[i]=count\n",
    "    time.sleep(2)\n",
    "    driver.refresh()\n",
    "    time.sleep(10)"
   ]
  },
  {
   "cell_type": "code",
   "execution_count": 15,
   "id": "7142b60f",
   "metadata": {},
   "outputs": [
    {
     "name": "stdout",
     "output_type": "stream",
     "text": [
      "Number of posts these handles have done in the previous 3 days : -\n",
      "yourfoodlab 2\n",
      "foodie_incarnate 5\n",
      "foodzee 1\n",
      "dilsefoodie 5\n",
      "thegreatindianfoodie 0\n"
     ]
    }
   ],
   "source": [
    "print('Number of posts these handles have done in the previous 3 days : -')\n",
    "for i in total_post_count:\n",
    "    print(i,total_post_count[i])"
   ]
  },
  {
   "cell_type": "markdown",
   "id": "949b6598",
   "metadata": {},
   "source": [
    "### 3.Depict this information using a suitable graph."
   ]
  },
  {
   "cell_type": "code",
   "execution_count": 16,
   "id": "444798f1",
   "metadata": {},
   "outputs": [
    {
     "data": {
      "image/png": "[encoded data removed]",
      "text/plain": [
       "<Figure size 432x288 with 1 Axes>"
      ]
     },
     "metadata": {
      "needs_background": "light"
     },
     "output_type": "display_data"
    }
   ],
   "source": [
    "x=total_post_count.keys()\n",
    "y=total_post_count.values()\n",
    "plt.bar(x,y,color='red',alpha=0.6,edgecolor='g')\n",
    "plt.ylabel(\"Number of post in the previous 3 days\",size=10)\n",
    "plt.xlabel(\"Username\",size=10)\n",
    "plt.xticks(rotation=40)\n",
    "plt.title(\"Most Followed user vs Number of recent posts\",fontsize=20, color='blue')\n",
    "plt.show()"
   ]
  },
  {
   "cell_type": "markdown",
   "id": "d206449a",
   "metadata": {},
   "source": [
    "# Problem 2 : List of hashtags\n",
    "\n",
    "Your friend also needs a list of hashtags that he should use in his posts.\n",
    "\n",
    "1.Open the 5 handles you obtained in the last question, and scrape the content of the first 10 posts of each handle.\n",
    "\n",
    "2.Prepare a list of all words used in all the scraped posts and calculate the frequency of each word.\n",
    "\n",
    "3.Create a csv file with two columns : the word and its frequency\n",
    "\n",
    "4.Now, find the hashtags that were most popular among these bloggers\n",
    "\n",
    "5.Plot a Pie Chart of the top 5 hashtags obtained and the number of times they were used by these bloggers in the scraped posts."
   ]
  },
  {
   "cell_type": "code",
   "execution_count": 17,
   "id": "f5bd2bc4",
   "metadata": {},
   "outputs": [],
   "source": [
    "def extract_content(lst):\n",
    "    try :\n",
    "        hashtags_list = []\n",
    "        for user in lst:\n",
    "            #This fuction will search a user and open that profile\n",
    "            search_profile(user)\n",
    "            time.sleep(2)\n",
    "            #just for scrolling to getting post\n",
    "            driver.execute_script('window.scrollTo(0, 3000);')\n",
    "            time.sleep(2)\n",
    "            driver.execute_script('window.scrollTo(0, -3000);')\n",
    "            time.sleep(2)\n",
    "            #locating the post of the user\n",
    "            posts = WebDriverWait(driver,10).until(EC.presence_of_all_elements_located((By.CLASS_NAME,'_aagw')))\n",
    "            for post in posts[:10]:\n",
    "                post.click()\n",
    "                time.sleep(2)\n",
    "                #locating all hashtag used in this post\n",
    "                hashtags=driver.find_elements('xpath','//div[@class=\"_a9zr\"]//a[contains(@class,\"oajrlxb2\")]')\n",
    "                for h in hashtags:\n",
    "                    #appending in list\n",
    "                    a=h.text\n",
    "                    if \"#\" in a:\n",
    "                        hashtags_list.append(a)\n",
    "                    \n",
    "                #locating close button and clicking on it\n",
    "                close=WebDriverWait(driver,10).until(EC.presence_of_element_located((By.XPATH,'//div[@class=\"o9tjht9c jar9mtx6 mbzxb4f5 njoytozt\"]/div')))\n",
    "                close.click()\n",
    "            time.sleep(2)\n",
    "            driver.refresh()\n",
    "            time.sleep(10)\n",
    "        return hashtags_list\n",
    "    \n",
    "    except TimeoutException :\n",
    "        print (\"Something went wrong! Try Again\")"
   ]
  },
  {
   "cell_type": "code",
   "execution_count": 18,
   "id": "131fc759",
   "metadata": {},
   "outputs": [],
   "source": [
    "handles=list(total_post_count.keys())\n",
    "hashtags= extract_content(handles)"
   ]
  },
  {
   "cell_type": "code",
   "execution_count": 19,
   "id": "0fb3e904",
   "metadata": {},
   "outputs": [
    {
     "name": "stdout",
     "output_type": "stream",
     "text": [
      "['#IndiaILove', '#IndiaAt75', '#indoremerijaan', '#2Million', '#YFL', '#recipe', '#foodie', '#indiancuisine', '#foodporn', '#frankie', '#schezwan', '#schezwanfrankie', '#foodporn', '#streetfood', '#foodstagram', '#recipe', '#foodporn', '#streetfood', '#rewind', '#foodism', '#yourfoodlab', '#sanjyotkeer', '#homemade', '#monsoon', '#foodiesofindia', '#indianfood', '#ussalVada', '#pancake', '#IndiaLove', '#indiaat75', '#IndiaLove', '#indiaat75', '#recipe', '#foodie', '#indiancuisine', '#desert', '#pancake', '#pancakeday', '#pancakelover', '#sanjyotkeer', '#yourfoodlab', '#foodporn', '#YFL', '#burmesekhowsuey', '#yourfoodlab', '#sanjyotkeer', '#monsoonswithyfl', '#indorespecial', '#bhuttekakees', '#foodporn', '#foodieincarnate', '#sodelhi', '#foodtalkindia', '#newdelhi', '#delhigram', '#desifood', '#ruralindia', '#santacruz', '#mumbaifood', '#munbaifoodie', '#somumbai', '#pakora', '#indianrecipes', '#samosa', '#vadapav', '#bangalorefood', '#pavbhaji', '#bhajji', '#delhistreetfood', '#streetfoodindia', '#foodism', '#foodgasm', '#desikhana', '#mumbaifoodies', '#delhifoodblog', '#mumbaifoodlovers', '#goodfoodindia', '#sokolkata', '#chutney', '#snack', '#foodieincarnate', '#sodelhi', '#newdelhi', '#foodtalkindia', '#delhigram', '#indianfood', '#delhifoodblogger', '#foodgasm', '#foodporn', '#foodpornshare', '#foodlover', '#foodgram', '#foodiesofinstagram', '#foodie', '#indianstreetfood', '#streetfood', '#delhistreetfood', '#streetfoodindia', '#mumbaistreetfood', '#delhifoodie', '#foodblogger', '#indianfoodie', '#desikhana', '#indianfoodblogger', '#indianfoodbloggers', '#delhifood', '#mumbai', '#delhi', '#paratha', '#Jaipur', '#foodieincarnate', '#reelitfeelit', '#reelkarofeelkaro', '#reelsinstagram', '#reels', '#patna', '#bihar', '#viralfood', '#explore', '#foodieincarnate', '#sodelhi', '#newdelhi', '#foodtalkindia', '#desifood', '#delhigram', '#indianfood', '#pune', '#gurugram', '#kolkata', '#mumbai', '#delhi', '#shahdara', '#eastdelhi', '#indianfoodie', '#southindianfood', '#dessert', '#desserts', '#delhifood', '#mumbaifood', '#mithai', '#indiandessert', '#delhifoodblogger', '#indianfoodbloggers', '#foodblogger', '#soulfood', '#balushahi', '#sobangalore', '#dessertporn', '#desikhana', '#foodieincarnate', '#sodelhi', '#newdelhi', '#foodtalkindia', '#delhigram', '#indianfood', '#delhifoodblogger', '#foodgasm', '#foodporn', '#foodpornshare', '#foodlover', '#foodgram', '#foodiesofinstagram', '#foodie', '#indianstreetfood', '#streetfood', '#delhistreetfood', '#streetfoodindia', '#mumbaistreetfood', '#delhifoodie', '#foodblogger', '#indianfoodie', '#desikhana', '#indianfoodblogger', '#indianfoodbloggers', '#delhifood', '#mumbai', '#delhi', '#panipuri', '#nashik', '#foodieincarnate', '#reelitfeelit', '#reelkarofeelkaro', '#reelsinstagram', '#reels', '#sweetcorn', '#bhutta', '#viralfood', '#explore', '#foodieincarnate', '#sodelhi', '#newdelhi', '#delhigram', '#foodtalkindia', '#desifood', '#chole', '#cholebhature', '#bhature', '#paharganj', '#puranidilli', '#delhistreetfood', '#mumbaistreetfood', '#indianstreetfood', '#streetfood', '#streetfoodindia', '#streetfoods', '#streetfoodlover', '#thali', '#instafoodlover', '#delhifood', '#delhite', '#olddelhi', '#foodinstagram', '#instagramfood', '#desikhana', '#indiancuisine', '#kulcha', '#chana', '#indianfoodblogger', '#gulabjamun', '#foodieincarnate', '#sodelhi', '#newdelhi', '#foodtalkindia', '#delhigram', '#indianfood', '#delhifoodblogger', '#foodgasm', '#foodporn', '#foodpornshare', '#foodlover', '#foodgram', '#foodiesofinstagram', '#foodie', '#indianstreetfood', '#streetfood', '#delhistreetfood', '#streetfoodindia', '#mumbaistreetfood', '#delhifoodie', '#foodblogger', '#indianfoodie', '#desikhana', '#indianfoodblogger', '#indianfoodbloggers', '#delhifood', '#mumbai', '#delhi', '#gujju', '#khakhra', '#say_no_to_plastic', '#foodieincarnate', '#reelitfeelit', '#reelkarofeelkaro', '#reelsinstagram', '#reels', '#pizza', '#pizzalover', '#streetfood', '#viralfood', '#explore', '#foodieincarnate', '#sodelhi', '#newdelhi', '#delhigram', '#foodtalkindia', '#desifood', '#indianfood', '#thali', '#sirohi', '#rajasthan', '#highwayfood', '#highway', '#dhaba', '#travelblogger', '#indianfoodie', '#indianfoodblogger', '#indianfoodbloggers', '#foodblogger', '#foodbloggers', '#delhifoodblogger', '#mumbaifoodie', '#travelfood', '#highway', '#indiatravel', '#rajasthanfood', '#localflavor', '#amarsirohi', '#mountabu', '#rajasthanifood', '#Sure', '#BabaRamdev', '#JanmashtamiComboBags', '#SignatureGiftBoxes', '#Janmashtami', '#foodzeee', '#HappinessEveryday❤️', '#JanmashtamiSpl', '#krishna', '#krishnajayanthi', '#seedai', '#murukku', '#FestiveComboBag', '#PreOrdersOpen', '#HurryUp', '#rnrbiryani', '#donnebiryani', '#biriyani', '#rnr', '#foodzeee', '#paneer', '#masalapaneer', '#cheese', '#recipe', '#cottagecheese', '#foodzeee', '#nostalgic', '#sevai', '#sgr777food', '#ricesevai', '#recipe', '#shavige', '#ottushavige', '#foodzeee', '#hubli', '#PrimeDay', '#DiscoverJoyWithAmazon', '#PrimeDay', '#collab', '#foodzeee', '#paalkova', '#milksweet', '#milk', '#therattipal', '#recipe', '#foodzeee', '#vathakuzhambu', '#kuzhambu', '#sgr777foods', '#recipe', '#foodzeee', '#puttu', '#kadalacurry', '#keralarecipes', '#recipe', '#foodzeee', '#dilsefoodie', '#dilsecouple', '#Makhan', '#Parantha', '#dilsefoodie', '#dilsecouple', '#Rakhi', '#Hampers', '#dilsefoodie', '#dilsecouple', '#village', '#cow', '#desi', '#ghee', '#dilsefoodie', '#dilsecouple', '#dilsefoodie', '#dilsecouple', '#thali', '#dilsefoodie', '#dilsecouple', '#ArnavResorts', '#Murthal', '#dilsefoodie', '#dilsecouple', '#roasted', '#chicken', '#dugdugdug', '#dilsefoodie', '#dilsecouple', '#fish', '#chicken', '#anokha', '#adhbhut', '#awishvasniye', '#foodiewe', '#dilsefoodie', '#dilsecouple', '#Bikaner😄', '#thegreatindianfoodie', '#tgif', '#dalmakhni', '#delhistreetfood', '#streetfood', '#icecream', '#indiansweets', '#indianfoodbloggers', '#dalmakhniroll', '#indianstreetfood', '#justicefordaalmakhni', '#thegreatindianfoodie', '#tgif', '#butterchickrn', '#delhistreetfood', '#streetfood', '#icecream', '#indiansweets', '#indianfoodbloggers', '#butterchickenroll', '#indianstreetfood', '#thegreatindianfoodie', '#tgif', '#pavbhaji', '#delhistreetfood', '#streetfood', '#pavbhajiicecream', '#indiansweets', '#indianfoodbloggers', '#icecreamroll', '#indianstreetfood', '#thegreatindianfoodie', '#tgif', '#reelkarofeelkaro', '#foodreels', '#recipe', '#spicy', '#desifood', '#delhistreetfood', '#mumbaistreetfood', '#chinesechaat', '#chaat', '#chatore', '#chatpata', '#thegreatindianfoodie', '#tgif', '#reelkarofeelkaro', '#train', '#recipe', '#spicy', '#desifood', '#delhistreetfood', '#mumbaistreetfood', '#gurgoan', '#chaat', '#chatore', '#rail', '#thegreatindianfoodie', '#tgif', '#reelkarofeelkaro', '#foodreels', '#recipe', '#spicy', '#desifood', '#delhistreetfood', '#mumbaistreetfood', '#momos', '#momo', '#tibetian', '#firemomos', '#sizzlers', '#thegreatindianfoodie', '#reels', '#viral', '#streetfoodindia', '#streetfood', '#mangoshake', '#delhistreetfood', '#mumbaistreetfood', '#milkshake', '#mangomania', '#mumbaikar', '#delhigram', '#instareels', '#aamras', '#alphanso', '#thegreatindianfoodie', '#cholekulche', '#delhistreetfood', '#foodiesofindia', '#homemade', '#northindianfood', '#paneer', '#desikhana', '#desifood', '#asianstreetfood', '#alootikki', '#chole', '#kulche', '#deepfried', '#khanakhazana', '#thegreatindianfoodie', '#streetfood', '#delhistreetfood', '#kolkatastreetfood', '#thegreatindianfoodie', '#paan', '#icecreamroll', '#icecream', '#pavbhajiicecream', '#daalmakhniicecream', '#thegreatindianfoodie', '#streetfood', '#delhistreetfood', '#kolkatastreetfood', '#foodiesofindia', '#homemade', '#homecooked', '#homecookedmeal', '#dalchalwal', '#northindianfood', '#paneer', '#desikhana']\n"
     ]
    }
   ],
   "source": [
    "print(hashtags)\n"
   ]
  },
  {
   "cell_type": "markdown",
   "id": "b4b13244",
   "metadata": {},
   "source": [
    "### 2.Prepare a list of all words used in all the scraped posts and calculate the frequency of each word."
   ]
  },
  {
   "cell_type": "code",
   "execution_count": 20,
   "id": "c760d9cc",
   "metadata": {},
   "outputs": [
    {
     "name": "stdout",
     "output_type": "stream",
     "text": [
      "#delhistreetfood 15\n",
      "#streetfood 13\n",
      "#recipe 11\n",
      "#thegreatindianfoodie 11\n",
      "#foodieincarnate 10\n",
      "#dilsefoodie 9\n",
      "#dilsecouple 9\n",
      "#foodporn 8\n",
      "#delhigram 8\n",
      "#desifood 8\n",
      "#desikhana 8\n",
      "#mumbaistreetfood 8\n",
      "#indianfoodbloggers 8\n",
      "#foodzeee 8\n",
      "#sodelhi 7\n",
      "#foodtalkindia 7\n",
      "#newdelhi 7\n",
      "#indianstreetfood 7\n",
      "#indianfood 6\n",
      "#streetfoodindia 6\n",
      "#reelkarofeelkaro 6\n",
      "#tgif 6\n",
      "#foodie 5\n",
      "#delhifoodblogger 5\n",
      "#foodblogger 5\n",
      "#indianfoodie 5\n",
      "#indianfoodblogger 5\n",
      "#delhifood 5\n",
      "#foodgasm 4\n",
      "#mumbai 4\n",
      "#delhi 4\n",
      "#reels 4\n",
      "#indiancuisine 3\n",
      "#yourfoodlab 3\n",
      "#sanjyotkeer 3\n",
      "#homemade 3\n",
      "#foodiesofindia 3\n",
      "#foodpornshare 3\n",
      "#foodlover 3\n",
      "#foodgram 3\n",
      "#foodiesofinstagram 3\n",
      "#delhifoodie 3\n",
      "#reelitfeelit 3\n",
      "#reelsinstagram 3\n",
      "#viralfood 3\n",
      "#explore 3\n",
      "#thali 3\n",
      "#paneer 3\n",
      "#icecream 3\n",
      "#indiansweets 3\n",
      "#spicy 3\n",
      "#YFL 2\n",
      "#foodism 2\n",
      "#pancake 2\n",
      "#IndiaLove 2\n",
      "#indiaat75 2\n",
      "#mumbaifood 2\n",
      "#pavbhaji 2\n",
      "#chole 2\n",
      "#highway 2\n",
      "#PrimeDay 2\n",
      "#chicken 2\n",
      "#pavbhajiicecream 2\n",
      "#icecreamroll 2\n",
      "#foodreels 2\n",
      "#chaat 2\n",
      "#chatore 2\n",
      "#northindianfood 2\n",
      "#kolkatastreetfood 2\n",
      "#IndiaILove 1\n",
      "#IndiaAt75 1\n",
      "#indoremerijaan 1\n",
      "#2Million 1\n",
      "#frankie 1\n",
      "#schezwan 1\n",
      "#schezwanfrankie 1\n",
      "#foodstagram 1\n",
      "#rewind 1\n",
      "#monsoon 1\n",
      "#ussalVada 1\n",
      "#desert 1\n",
      "#pancakeday 1\n",
      "#pancakelover 1\n",
      "#burmesekhowsuey 1\n",
      "#monsoonswithyfl 1\n",
      "#indorespecial 1\n",
      "#bhuttekakees 1\n",
      "#ruralindia 1\n",
      "#santacruz 1\n",
      "#munbaifoodie 1\n",
      "#somumbai 1\n",
      "#pakora 1\n",
      "#indianrecipes 1\n",
      "#samosa 1\n",
      "#vadapav 1\n",
      "#bangalorefood 1\n",
      "#bhajji 1\n",
      "#mumbaifoodies 1\n",
      "#delhifoodblog 1\n",
      "#mumbaifoodlovers 1\n",
      "#goodfoodindia 1\n",
      "#sokolkata 1\n",
      "#chutney 1\n",
      "#snack 1\n",
      "#paratha 1\n",
      "#Jaipur 1\n",
      "#patna 1\n",
      "#bihar 1\n",
      "#pune 1\n",
      "#gurugram 1\n",
      "#kolkata 1\n",
      "#shahdara 1\n",
      "#eastdelhi 1\n",
      "#southindianfood 1\n",
      "#dessert 1\n",
      "#desserts 1\n",
      "#mithai 1\n",
      "#indiandessert 1\n",
      "#soulfood 1\n",
      "#balushahi 1\n",
      "#sobangalore 1\n",
      "#dessertporn 1\n",
      "#panipuri 1\n",
      "#nashik 1\n",
      "#sweetcorn 1\n",
      "#bhutta 1\n",
      "#cholebhature 1\n",
      "#bhature 1\n",
      "#paharganj 1\n",
      "#puranidilli 1\n",
      "#streetfoods 1\n",
      "#streetfoodlover 1\n",
      "#instafoodlover 1\n",
      "#delhite 1\n",
      "#olddelhi 1\n",
      "#foodinstagram 1\n",
      "#instagramfood 1\n",
      "#kulcha 1\n",
      "#chana 1\n",
      "#gulabjamun 1\n",
      "#gujju 1\n",
      "#khakhra 1\n",
      "#say_no_to_plastic 1\n",
      "#pizza 1\n",
      "#pizzalover 1\n",
      "#sirohi 1\n",
      "#rajasthan 1\n",
      "#highwayfood 1\n",
      "#dhaba 1\n",
      "#travelblogger 1\n",
      "#foodbloggers 1\n",
      "#mumbaifoodie 1\n",
      "#travelfood 1\n",
      "#indiatravel 1\n",
      "#rajasthanfood 1\n",
      "#localflavor 1\n",
      "#amarsirohi 1\n",
      "#mountabu 1\n",
      "#rajasthanifood 1\n",
      "#Sure 1\n",
      "#BabaRamdev 1\n",
      "#JanmashtamiComboBags 1\n",
      "#SignatureGiftBoxes 1\n",
      "#Janmashtami 1\n",
      "#HappinessEveryday❤️ 1\n",
      "#JanmashtamiSpl 1\n",
      "#krishna 1\n",
      "#krishnajayanthi 1\n",
      "#seedai 1\n",
      "#murukku 1\n",
      "#FestiveComboBag 1\n",
      "#PreOrdersOpen 1\n",
      "#HurryUp 1\n",
      "#rnrbiryani 1\n",
      "#donnebiryani 1\n",
      "#biriyani 1\n",
      "#rnr 1\n",
      "#masalapaneer 1\n",
      "#cheese 1\n",
      "#cottagecheese 1\n",
      "#nostalgic 1\n",
      "#sevai 1\n",
      "#sgr777food 1\n",
      "#ricesevai 1\n",
      "#shavige 1\n",
      "#ottushavige 1\n",
      "#hubli 1\n",
      "#DiscoverJoyWithAmazon 1\n",
      "#collab 1\n",
      "#paalkova 1\n",
      "#milksweet 1\n",
      "#milk 1\n",
      "#therattipal 1\n",
      "#vathakuzhambu 1\n",
      "#kuzhambu 1\n",
      "#sgr777foods 1\n",
      "#puttu 1\n",
      "#kadalacurry 1\n",
      "#keralarecipes 1\n",
      "#Makhan 1\n",
      "#Parantha 1\n",
      "#Rakhi 1\n",
      "#Hampers 1\n",
      "#village 1\n",
      "#cow 1\n",
      "#desi 1\n",
      "#ghee 1\n",
      "#ArnavResorts 1\n",
      "#Murthal 1\n",
      "#roasted 1\n",
      "#dugdugdug 1\n",
      "#fish 1\n",
      "#anokha 1\n",
      "#adhbhut 1\n",
      "#awishvasniye 1\n",
      "#foodiewe 1\n",
      "#Bikaner😄 1\n",
      "#dalmakhni 1\n",
      "#dalmakhniroll 1\n",
      "#justicefordaalmakhni 1\n",
      "#butterchickrn 1\n",
      "#butterchickenroll 1\n",
      "#chinesechaat 1\n",
      "#chatpata 1\n",
      "#train 1\n",
      "#gurgoan 1\n",
      "#rail 1\n",
      "#momos 1\n",
      "#momo 1\n",
      "#tibetian 1\n",
      "#firemomos 1\n",
      "#sizzlers 1\n",
      "#viral 1\n",
      "#mangoshake 1\n",
      "#milkshake 1\n",
      "#mangomania 1\n",
      "#mumbaikar 1\n",
      "#instareels 1\n",
      "#aamras 1\n",
      "#alphanso 1\n",
      "#cholekulche 1\n",
      "#asianstreetfood 1\n",
      "#alootikki 1\n",
      "#kulche 1\n",
      "#deepfried 1\n",
      "#khanakhazana 1\n",
      "#paan 1\n",
      "#daalmakhniicecream 1\n",
      "#homecooked 1\n",
      "#homecookedmeal 1\n",
      "#dalchalwal 1\n"
     ]
    }
   ],
   "source": [
    "dict={}\n",
    "words_list=[]\n",
    "for word in hashtags:\n",
    "    dict[word]=dict.get(word,0)+1\n",
    "for i in sorted(dict,key=dict.get,reverse=True):\n",
    "    words_list.append([i,dict[i]])\n",
    "    print(i,dict[i])"
   ]
  },
  {
   "cell_type": "markdown",
   "id": "5c0245a6",
   "metadata": {},
   "source": [
    "### 3.Create a csv file with two columns : the word and its frequency -->"
   ]
  },
  {
   "cell_type": "code",
   "execution_count": 21,
   "id": "4c493bdd",
   "metadata": {},
   "outputs": [
    {
     "data": {
      "text/html": [
       "<div>\n",
       "<style scoped>\n",
       "    .dataframe tbody tr th:only-of-type {\n",
       "        vertical-align: middle;\n",
       "    }\n",
       "\n",
       "    .dataframe tbody tr th {\n",
       "        vertical-align: top;\n",
       "    }\n",
       "\n",
       "    .dataframe thead th {\n",
       "        text-align: right;\n",
       "    }\n",
       "</style>\n",
       "<table border=\"1\" class=\"dataframe\">\n",
       "  <thead>\n",
       "    <tr style=\"text-align: right;\">\n",
       "      <th></th>\n",
       "      <th>Words</th>\n",
       "      <th>Frequency</th>\n",
       "    </tr>\n",
       "  </thead>\n",
       "  <tbody>\n",
       "    <tr>\n",
       "      <th>0</th>\n",
       "      <td>#delhistreetfood</td>\n",
       "      <td>15</td>\n",
       "    </tr>\n",
       "    <tr>\n",
       "      <th>1</th>\n",
       "      <td>#streetfood</td>\n",
       "      <td>13</td>\n",
       "    </tr>\n",
       "    <tr>\n",
       "      <th>2</th>\n",
       "      <td>#recipe</td>\n",
       "      <td>11</td>\n",
       "    </tr>\n",
       "    <tr>\n",
       "      <th>3</th>\n",
       "      <td>#thegreatindianfoodie</td>\n",
       "      <td>11</td>\n",
       "    </tr>\n",
       "    <tr>\n",
       "      <th>4</th>\n",
       "      <td>#foodieincarnate</td>\n",
       "      <td>10</td>\n",
       "    </tr>\n",
       "    <tr>\n",
       "      <th>5</th>\n",
       "      <td>#dilsefoodie</td>\n",
       "      <td>9</td>\n",
       "    </tr>\n",
       "    <tr>\n",
       "      <th>6</th>\n",
       "      <td>#dilsecouple</td>\n",
       "      <td>9</td>\n",
       "    </tr>\n",
       "    <tr>\n",
       "      <th>7</th>\n",
       "      <td>#foodporn</td>\n",
       "      <td>8</td>\n",
       "    </tr>\n",
       "    <tr>\n",
       "      <th>8</th>\n",
       "      <td>#delhigram</td>\n",
       "      <td>8</td>\n",
       "    </tr>\n",
       "    <tr>\n",
       "      <th>9</th>\n",
       "      <td>#desifood</td>\n",
       "      <td>8</td>\n",
       "    </tr>\n",
       "  </tbody>\n",
       "</table>\n",
       "</div>"
      ],
      "text/plain": [
       "                   Words  Frequency\n",
       "0       #delhistreetfood         15\n",
       "1            #streetfood         13\n",
       "2                #recipe         11\n",
       "3  #thegreatindianfoodie         11\n",
       "4       #foodieincarnate         10\n",
       "5           #dilsefoodie          9\n",
       "6           #dilsecouple          9\n",
       "7              #foodporn          8\n",
       "8             #delhigram          8\n",
       "9              #desifood          8"
      ]
     },
     "execution_count": 21,
     "metadata": {},
     "output_type": "execute_result"
    }
   ],
   "source": [
    "import pandas as pd\n",
    "df=pd.DataFrame(words_list,columns=['Words','Frequency'])\n",
    "df.to_csv('Words_frequency.csv',index=False)\n",
    "df.head(10)"
   ]
  },
  {
   "cell_type": "markdown",
   "id": "54347ced",
   "metadata": {},
   "source": [
    "### 4.Now, find the hashtags that were most popular among these bloggers"
   ]
  },
  {
   "cell_type": "code",
   "execution_count": 22,
   "id": "a6fba0e3",
   "metadata": {},
   "outputs": [
    {
     "name": "stdout",
     "output_type": "stream",
     "text": [
      "#delhistreetfood\n"
     ]
    }
   ],
   "source": [
    "print(words_list[0][0])"
   ]
  },
  {
   "cell_type": "markdown",
   "id": "f269928e",
   "metadata": {},
   "source": [
    "### 5.Plot a Pie Chart of the top 5 hashtags obtained and the number of times they were used by these bloggers in the scraped posts."
   ]
  },
  {
   "cell_type": "code",
   "execution_count": 23,
   "id": "aecbc3aa",
   "metadata": {},
   "outputs": [
    {
     "data": {
      "image/png": "[encoded data removed]",
      "text/plain": [
       "<Figure size 864x432 with 1 Axes>"
      ]
     },
     "metadata": {},
     "output_type": "display_data"
    }
   ],
   "source": [
    "#using the answer od problem 2.2\n",
    "hashtag_name = [words_list[0][0],words_list[1][0],words_list[2][0],words_list[3][0],words_list[4][0]]\n",
    "count = [words_list[0][1],words_list[1][1],words_list[2][1],words_list[3][1],words_list[4][1]]\n",
    "plt.figure(figsize=(12,6))\n",
    "plt.pie(count,labels=hashtag_name,autopct='%0.2f%%',radius=1,counterclock=False,startangle=110)\n",
    "plt.title('Top 5 Hashtags used by bloggers ',fontsize=20, color='black',alpha=0.8)\n",
    "plt.show()"
   ]
  },
  {
   "cell_type": "markdown",
   "id": "a13e570d",
   "metadata": {},
   "source": [
    "### Problem 3 : Followers : Likes ratio\n",
    "\n",
    "You need to also calculate average followers : likes ratio for the obtained handles. Followers : Likes ratio is calculated as follows:\n",
    "\n",
    "1.Find out the likes of the top 10 posts of the 5 handles obtained earlier.\n",
    "\n",
    "2.Calculate the average likes for a handle.\n",
    "\n",
    "3.Divide the average likes obtained from the number of followers of the \n",
    "handle to get the average followers:like ratio of each handle.\n",
    "\n",
    "4.Create a bar graph to depict the above obtained information."
   ]
  },
  {
   "cell_type": "markdown",
   "id": "8b38c34b",
   "metadata": {},
   "source": [
    "### 1.Find out the likes of the top 10 posts of the 5 handles obtained earlier."
   ]
  },
  {
   "cell_type": "code",
   "execution_count": 39,
   "id": "10e7b4ac",
   "metadata": {},
   "outputs": [],
   "source": [
    "#This function returns list of likes of 10 post of a user\n",
    "def get_likes(user):\n",
    "    try :\n",
    "            likes = []\n",
    "            #This fuction will search a user and open that profile\n",
    "            search_profile(user)\n",
    "            time.sleep(2)\n",
    "            #just for scrolling\n",
    "            driver.execute_script('window.scrollTo(0, 3000);')\n",
    "            time.sleep(2)\n",
    "            driver.execute_script('window.scrollTo(0, -3000);')\n",
    "            time.sleep(2)\n",
    "            #locating the post of the user\n",
    "            posts = driver.find_elements('class name','_aagw')\n",
    "            for post in posts[:10]:\n",
    "                post.click()\n",
    "                time.sleep(2)\n",
    "                try : \n",
    "                    #for getting like on video we need to first click on view then only we can like\n",
    "                    views=WebDriverWait(driver,10).until(EC.presence_of_element_located((By.XPATH,'//div[@class=\"_aaz4\"]/section[@class=\"_aa-7\"]/div/span')))\n",
    "                    views.click()\n",
    "                    time.sleep(1)\n",
    "                    \n",
    "                    #locating like and clicking on it\n",
    "                    like = WebDriverWait(driver,10).until(EC.presence_of_element_located((By.XPATH,'//div[@class=\"_aauu\"]/span')))\n",
    "                    no_of_likes = (like.text).replace(',' , '')\n",
    "                    likes.append(int(no_of_likes))\n",
    "                    time.sleep(1)\n",
    "                    #just clicking one body to get original post back\n",
    "                    driver.find_element('xpath','/html/body/div[4]').click()\n",
    "                #if the post is image then this part will execute \n",
    "                except TimeoutException :\n",
    "                    \n",
    "                    like = WebDriverWait(driver,10).until(EC.presence_of_element_located((By.XPATH,'//div[@class=\"_aaz4\"]/section[@class=\"_aa-7\"]/div[(contains(@class,\"_aacl\"))]/span')))\n",
    "                    no_of_likes = (like.text).replace(',' , '')\n",
    "                    likes.append(int(no_of_likes))\n",
    "                    time.sleep(1)\n",
    "                #locating close button and clicking on it\n",
    "                close=WebDriverWait(driver,10).until(EC.presence_of_element_located((By.XPATH,'//div[@class=\"o9tjht9c jar9mtx6 mbzxb4f5 njoytozt\"]/div')))\n",
    "                close.click()\n",
    "\n",
    "                \n",
    "            return likes\n",
    "    \n",
    "    except TimeoutException :\n",
    "        print (\"Something went wrong! Try Again\")\n",
    "        \n",
    "    "
   ]
  },
  {
   "cell_type": "code",
   "execution_count": 48,
   "id": "22bab76c",
   "metadata": {},
   "outputs": [],
   "source": [
    "#since selenium works on one window to extract likes i have manuaaly scrolled and stored the data"
   ]
  },
  {
   "cell_type": "code",
   "execution_count": 54,
   "id": "b2a80b80",
   "metadata": {},
   "outputs": [],
   "source": [
    "likes_yourfoodlab=[25648,22495,28895,9457,35388,4371,49751,22485,2577,256363]"
   ]
  },
  {
   "cell_type": "code",
   "execution_count": 55,
   "id": "84ee16c6",
   "metadata": {},
   "outputs": [
    {
     "name": "stdout",
     "output_type": "stream",
     "text": [
      "Number of likes of the top 10 posts of youfoodlab :\n",
      "25648 Likes\n",
      "22495 Likes\n",
      "28895 Likes\n",
      "9457 Likes\n",
      "35388 Likes\n",
      "4371 Likes\n",
      "49751 Likes\n",
      "22485 Likes\n",
      "2577 Likes\n",
      "256363 Likes\n",
      "\n"
     ]
    }
   ],
   "source": [
    "print('Number of likes of the top 10 posts of',user,':')\n",
    "for i in likes_yourfoodlab :\n",
    "    print(i,'Likes')\n",
    "print()"
   ]
  },
  {
   "cell_type": "code",
   "execution_count": 56,
   "id": "d418d88a",
   "metadata": {},
   "outputs": [],
   "source": [
    "likes_foddie_incarnate=[3486,19056,24105,6072,144838,31020,94904,17061,20425,11208]\n"
   ]
  },
  {
   "cell_type": "code",
   "execution_count": 57,
   "id": "38a2b77f",
   "metadata": {},
   "outputs": [
    {
     "name": "stdout",
     "output_type": "stream",
     "text": [
      "Number of likes of the top 10 posts of youfoodlab :\n",
      "3486 Likes\n",
      "19056 Likes\n",
      "24105 Likes\n",
      "6072 Likes\n",
      "144838 Likes\n",
      "31020 Likes\n",
      "94904 Likes\n",
      "17061 Likes\n",
      "20425 Likes\n",
      "11208 Likes\n",
      "\n"
     ]
    }
   ],
   "source": [
    "print('Number of likes of the top 10 posts of',user,':')\n",
    "for i in likes_foddie_incarnate :\n",
    "    print(i,'Likes')\n",
    "print()"
   ]
  },
  {
   "cell_type": "code",
   "execution_count": 58,
   "id": "34555d76",
   "metadata": {},
   "outputs": [],
   "source": [
    "likes_fodzee=[6671,31481,28041,22679,51562,10114,54118,127950,81788,110054]\n"
   ]
  },
  {
   "cell_type": "code",
   "execution_count": 59,
   "id": "0640aa07",
   "metadata": {},
   "outputs": [
    {
     "name": "stdout",
     "output_type": "stream",
     "text": [
      "Number of likes of the top 10 posts of youfoodlab :\n",
      "6671 Likes\n",
      "31481 Likes\n",
      "28041 Likes\n",
      "22679 Likes\n",
      "51562 Likes\n",
      "10114 Likes\n",
      "54118 Likes\n",
      "127950 Likes\n",
      "81788 Likes\n",
      "110054 Likes\n",
      "\n"
     ]
    }
   ],
   "source": [
    "print('Number of likes of the top 10 posts of',user,':')\n",
    "for i in likes_fodzee :\n",
    "    print(i,'Likes')\n",
    "print()"
   ]
  },
  {
   "cell_type": "code",
   "execution_count": 60,
   "id": "70b8cabd",
   "metadata": {},
   "outputs": [],
   "source": [
    "likes_dilsefoodie=[130,9922,2650,11725,3084,6865,3872,4222,7283,4045]\n"
   ]
  },
  {
   "cell_type": "code",
   "execution_count": 61,
   "id": "74da0167",
   "metadata": {},
   "outputs": [
    {
     "name": "stdout",
     "output_type": "stream",
     "text": [
      "Number of likes of the top 10 posts of youfoodlab :\n",
      "130 Likes\n",
      "9922 Likes\n",
      "2650 Likes\n",
      "11725 Likes\n",
      "3084 Likes\n",
      "6865 Likes\n",
      "3872 Likes\n",
      "4222 Likes\n",
      "7283 Likes\n",
      "4045 Likes\n",
      "\n"
     ]
    }
   ],
   "source": [
    "print('Number of likes of the top 10 posts of',user,':')\n",
    "for i in likes_dilsefoodie :\n",
    "    print(i,'Likes')\n",
    "print()"
   ]
  },
  {
   "cell_type": "code",
   "execution_count": 62,
   "id": "a9df42b6",
   "metadata": {},
   "outputs": [],
   "source": [
    "likes_thegreat=[6708,3819,8694,1141,1024,1225,1215,1493,2908,594]\n"
   ]
  },
  {
   "cell_type": "code",
   "execution_count": 63,
   "id": "cdba1e31",
   "metadata": {},
   "outputs": [
    {
     "name": "stdout",
     "output_type": "stream",
     "text": [
      "Number of likes of the top 10 posts of youfoodlab :\n",
      "6708 Likes\n",
      "3819 Likes\n",
      "8694 Likes\n",
      "1141 Likes\n",
      "1024 Likes\n",
      "1225 Likes\n",
      "1215 Likes\n",
      "1493 Likes\n",
      "2908 Likes\n",
      "594 Likes\n",
      "\n"
     ]
    }
   ],
   "source": [
    "print('Number of likes of the top 10 posts of',user,':')\n",
    "for i in likes_thegreat :\n",
    "    print(i,'Likes')\n",
    "print()"
   ]
  },
  {
   "cell_type": "markdown",
   "id": "1b74c70a",
   "metadata": {},
   "source": [
    "### 2.Calculate the average likes for a handle."
   ]
  },
  {
   "cell_type": "code",
   "execution_count": 74,
   "id": "9f586ed4",
   "metadata": {},
   "outputs": [],
   "source": [
    "def get_avg_likes(lst):\n",
    "    s=sum(lst)\n",
    "    n=len(lst)\n",
    "    avg=s//n\n",
    "    return avg"
   ]
  },
  {
   "cell_type": "code",
   "execution_count": 75,
   "id": "8120eff2",
   "metadata": {},
   "outputs": [],
   "source": [
    "avg_likes=get_avg_likes(likes_yourfoodlab)\n",
    "avg_like=[]\n",
    "avg_like.append(avg_likes)"
   ]
  },
  {
   "cell_type": "code",
   "execution_count": 76,
   "id": "df9f740b",
   "metadata": {},
   "outputs": [],
   "source": [
    "avg_likes=get_avg_likes(likes_foddie_incarnate)\n",
    "avg_like.append(avg_likes)"
   ]
  },
  {
   "cell_type": "code",
   "execution_count": 79,
   "id": "3c8684a8",
   "metadata": {},
   "outputs": [],
   "source": [
    "avg_likes=get_avg_likes(likes_fodzee)\n",
    "avg_like.append(avg_likes)"
   ]
  },
  {
   "cell_type": "code",
   "execution_count": 81,
   "id": "a7387cf0",
   "metadata": {},
   "outputs": [],
   "source": [
    "avg_likes=get_avg_likes(likes_dilsefoodie)\n",
    "avg_like.append(avg_likes)"
   ]
  },
  {
   "cell_type": "code",
   "execution_count": 82,
   "id": "e2e34a35",
   "metadata": {},
   "outputs": [],
   "source": [
    "avg_likes=get_avg_likes(likes_thegreat)\n",
    "avg_like.append(avg_likes)"
   ]
  },
  {
   "cell_type": "code",
   "execution_count": 89,
   "id": "67771d62",
   "metadata": {},
   "outputs": [
    {
     "name": "stdout",
     "output_type": "stream",
     "text": [
      "The average like for each handle are\n",
      "yourfoodlab   45743\n",
      "foodie_incarnate   37217\n",
      "foodzee   52445\n",
      "dilsefoodie   5379\n",
      "thegreatindianfoodie   2882\n"
     ]
    }
   ],
   "source": [
    "print('The average like for each handle are')\n",
    "a=[]\n",
    "for key in top_handels:\n",
    "    a.append(key)\n",
    "for i in range(len(a)):\n",
    "    print(a[i],' ',avg_like[i])"
   ]
  },
  {
   "cell_type": "markdown",
   "id": "0111604e",
   "metadata": {},
   "source": [
    "### 3.Divide the average likes obtained from the number of followers of the handle to get the average followers:like ratio of each handle."
   ]
  },
  {
   "cell_type": "code",
   "execution_count": 113,
   "id": "91bcb50b",
   "metadata": {},
   "outputs": [],
   "source": [
    "no_of_followers=[]\n",
    "for value in top_handels.values():\n",
    "    no_of_followers.append(value)\n",
    "\n",
    "avg_like_ratio=[]\n",
    "for i in no_of_followers:\n",
    "    for j in avg_like:\n",
    "        a=i//j\n",
    "    avg_like_ratio.append(a)\n"
   ]
  },
  {
   "cell_type": "code",
   "execution_count": 112,
   "id": "44b347b0",
   "metadata": {},
   "outputs": [
    {
     "name": "stdout",
     "output_type": "stream",
     "text": [
      "Average followers to like ratio in each handle :\n",
      "yourfoodlab   696\n",
      "foodie_incarnate   476\n",
      "foodzee   451\n",
      "dilsefoodie   356\n",
      "thegreatindianfoodie   126\n"
     ]
    }
   ],
   "source": [
    "print(\"Average followers to like ratio in each handle :\")\n",
    "a=[]\n",
    "for key in top_handels:\n",
    "    a.append(key)\n",
    "for i in range(len(avg_like_ratio)):\n",
    "    print(a[i],' ',avg_like_ratio[i])"
   ]
  },
  {
   "cell_type": "markdown",
   "id": "8350d762",
   "metadata": {},
   "source": [
    "### 4.Create a bar graph to depict the above obtained information."
   ]
  },
  {
   "cell_type": "code",
   "execution_count": 125,
   "id": "d39a0201",
   "metadata": {},
   "outputs": [
    {
     "data": {
      "image/png": "[encoded data removed]",
      "text/plain": [
       "<Figure size 432x288 with 1 Axes>"
      ]
     },
     "metadata": {
      "needs_background": "light"
     },
     "output_type": "display_data"
    }
   ],
   "source": [
    "a=[]\n",
    "for key in top_handels:\n",
    "    a.append(key)\n",
    "plt.bar(a,avg_like,color='red',alpha=0.6)\n",
    "plt.ylabel(\"Average Likes\",size=15)\n",
    "plt.xlabel(\"Handle's Name\",size=15)\n",
    "plt.title('Average like for each handle ',fontsize=20, color='blue',alpha=0.8)\n",
    "plt.xticks(rotation=40)\n",
    "plt.show()"
   ]
  },
  {
   "cell_type": "code",
   "execution_count": 126,
   "id": "5c87e3b8",
   "metadata": {},
   "outputs": [],
   "source": [
    "# Plotting Bar Graph for average followers:like ratio of each handle"
   ]
  },
  {
   "cell_type": "code",
   "execution_count": 128,
   "id": "592a2fb6",
   "metadata": {},
   "outputs": [
    {
     "data": {
      "image/png": "[encoded data removed]",
      "text/plain": [
       "<Figure size 432x288 with 1 Axes>"
      ]
     },
     "metadata": {
      "needs_background": "light"
     },
     "output_type": "display_data"
    }
   ],
   "source": [
    "a=[]\n",
    "for key in top_handels:\n",
    "    a.append(key)\n",
    "plt.bar(a,avg_like_ratio,color='purple',alpha=0.6)\n",
    "plt.ylabel(\"Average Followers:Like Ratio\",size=15)\n",
    "plt.xlabel(\"Handle's Name\",size=15)\n",
    "plt.title('Average Followers:like Ration for each handle ',fontsize=20, color='blue',alpha=0.8)\n",
    "plt.xticks(rotation=40)\n",
    "plt.show()"
   ]
  }
 ],
 "metadata": {
  "kernelspec": {
   "display_name": "Python 3",
   "language": "python",
   "name": "python3"
  },
  "language_info": {
   "codemirror_mode": {
    "name": "ipython",
    "version": 3
   },
   "file_extension": ".py",
   "mimetype": "text/x-python",
   "name": "python",
   "nbconvert_exporter": "python",
   "pygments_lexer": "ipython3",
   "version": "3.8.8"
  }
 },
 "nbformat": 4,
 "nbformat_minor": 5
}
